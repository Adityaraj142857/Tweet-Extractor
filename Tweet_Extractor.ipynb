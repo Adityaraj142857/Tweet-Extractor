{
  "nbformat": 4,
  "nbformat_minor": 0,
  "metadata": {
    "colab": {
      "name": "Tweet Extractor.ipynb",
      "provenance": []
    },
    "kernelspec": {
      "name": "python3",
      "display_name": "Python 3"
    },
    "language_info": {
      "name": "python"
    },
    "accelerator": "GPU",
    "gpuClass": "standard"
  },
  "cells": [
    {
      "cell_type": "code",
      "execution_count": null,
      "metadata": {
        "id": "a45a3cfb"
      },
      "outputs": [],
      "source": [
        "import tweepy\n",
        "import sys\n",
        "from tweepy import Stream\n",
        "from tweepy import OAuthHandler\n",
        "from tweepy.streaming import StreamListener\n",
        "import time\n",
        "import datetime \n",
        "from tqdm import tqdm\n",
        "import pandas as pd\n",
        "import numpy as np\n",
        "from os import path"
      ]
    },
    {
      "cell_type": "code",
      "execution_count": null,
      "metadata": {
        "id": "40dfc9f5",
        "outputId": "a504944b-5644-46c0-d3ee-b647fa060a7a",
        "colab": {
          "base_uri": "https://localhost:8080/"
        }
      },
      "outputs": [
        {
          "output_type": "execute_result",
          "data": {
            "text/plain": [
              "{'/search/tweets': {'limit': 180, 'remaining': 180, 'reset': 1655188519}}"
            ]
          },
          "metadata": {},
          "execution_count": 4
        }
      ],
      "source": [
        "#Twitter developer account credentials\n",
        "\n",
        "consumer_key=\"B6Qk5decSXXXXXXXXXXXXX\"\n",
        "consumer_secret=\"dmaONqi9AyJvK5njuPmwAXXXXXXXXXXXXXXXXXXXXX\"\n",
        "access_token=\"1322098750546972672XXXXXXXXXXXXXXXXXXXXXXXXXXXXX\"\n",
        "access_token_secret=\"uEeGCF1MncH0BjXXXXXXXXXXXXXXXXXXXXXXXXX\"\n",
        "BEARER_TOKEN = \"AAAAAAAAAAAAAAAAAAAAANi1cAEAAAAAcZmRao9K4T68Z2cJP%2FBXXXXXXXXXXXXXXXXXXXXXXXXXXXXXXXXXXXXXXXXXXXXX\"\n",
        "\n",
        "#Switching to application authentication\n",
        "auth = tweepy.OAuthHandler(consumer_key,consumer_secret)\n",
        "auth.set_access_token(access_token, access_token_secret)\n",
        "auth.secure = True\n",
        "\n",
        "#Setting up api wrapper, using authentication only\n",
        "api = tweepy.API(auth, wait_on_rate_limit=True, wait_on_rate_limit_notify=True)\n",
        "\n",
        "#Error handling\n",
        "if (not api):\n",
        "    print (\"Problem connecting to API\")\n",
        "\n",
        "#You can check how many queries you have left using rate_limit_status() method\n",
        "api.rate_limit_status()['resources']['search']\n",
        "\n",
        "# if (not api):\n",
        "#     print(\"Authentication failed!\")\n",
        "#     sys.exit(-1)"
      ]
    },
    {
      "cell_type": "code",
      "execution_count": null,
      "metadata": {
        "id": "e44c15f5"
      },
      "outputs": [],
      "source": [
        "#Switching to application authentication\n",
        "auth = tweepy.AppAuthHandler(consumer_key, consumer_secret)\n",
        "\n",
        "#Setting up new api wrapper, using authentication only\n",
        "api = tweepy.API(auth, wait_on_rate_limit=True,wait_on_rate_limit_notify=True)\n",
        "\n",
        "#Error handling\n",
        "if (not api):\n",
        "    print (\"Problem Connecting to API\")"
      ]
    },
    {
      "cell_type": "code",
      "execution_count": null,
      "metadata": {
        "id": "e84fe024",
        "outputId": "e6ea65a1-67e6-4130-b89c-a7a04d4eb9d5",
        "colab": {
          "base_uri": "https://localhost:8080/"
        }
      },
      "outputs": [
        {
          "output_type": "stream",
          "name": "stdout",
          "text": [
            "Downloaded 184 tweets\n"
          ]
        }
      ],
      "source": [
        "#maximum number of tweets we want to collect \n",
        "number_tweets= 1000\n",
        "#The twitter Search API allows up to 100 tweets per query\n",
        "tweetsPerQry = 100\n",
        "\n",
        "#search_words\n",
        "search_words= input(\"Enter the String To get tweets on : \")\n",
        "\n",
        "retweet_filter='-filter:retweets'\n",
        "\n",
        "q=search_words+retweet_filter\n",
        "date_since= \"2020-12-08\"\n",
        "#date_until= \"2021-04-14\"\n",
        "tweetCount = 0\n",
        "geo =[]\n",
        "tweets=[]\n",
        "likes=[]\n",
        "user=[]\n",
        "location= []\n",
        "date=[]\n",
        "\n",
        "\n",
        "for tweet in tweepy.Cursor(api.search, q= q,lang=\"en\",since= date_since, tweet_mode='extended').items(number_tweets) :\n",
        "        geo.append(tweet.geo)\n",
        "        tweets.append(tweet.full_text)\n",
        "        likes.append(tweet.favorite_count)\n",
        "        user.append(tweet.user.screen_name)\n",
        "        location.append(tweet.user.location)\n",
        "        date.append(tweet.created_at)\n",
        "        tweetCount += 1\n",
        "    #Display how many tweets we have collected\n",
        "print(\"Downloaded {0} tweets\".format(tweetCount))\n",
        "\n",
        "vacc_tweet_5= pd.DataFrame({'geo':geo,'tweets':tweets,'likes':likes,'user':user,'location':location,'date': date})"
      ]
    },
    {
      "cell_type": "code",
      "source": [
        "#saving tweets\n",
        "\n",
        "vacc_tweet_5.to_csv('/content/drive/MyDrive/**Lovation To save on**',index=False)"
      ],
      "metadata": {
        "id": "hWSiLpNPnCiX"
      },
      "execution_count": null,
      "outputs": []
    }
  ]
}